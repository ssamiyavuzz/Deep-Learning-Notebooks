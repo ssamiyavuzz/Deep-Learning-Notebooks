{
 "cells": [
  {
   "cell_type": "markdown",
   "id": "830117f1",
   "metadata": {},
   "source": [
    "# Artificial Neural Network (ANN)\n",
    "\n",
    "Yapay Sinir Ağları, insan beyninin bilgi işleme şeklini taklit etmeye çalışan bir makine öğrenimi modelidir. Neuron adı verilen birimlerden oluşur ve bu birimler arasındaki bağlantılar (ağırlıklar) üzerinden bilgi akışını simüle eder.\n",
    "\n",
    "Karmaşık desenleri ve veri ilişkilerini tanıma, sınıflandırma, tahmin etme ve karar verme yetenekleriyle, görevlere otomatik olarak öğrenme ve adapte olma kabiliyetine sahiptir.\n",
    "\n",
    "**Ana Bileşenler:**\n",
    "\n",
    "- **Input Layer:**  Verinin modele girdiği ilk katmandır ve her bir input layer, veri setindeki bir feature'a karşılık gelir.\n",
    "\n",
    "- **Hiden Layer:** Giriş ve çıkış katmanları arasında yer alır; bu katmanlardaki düğümler, öğrenme işlemi sırasında modelin öğrendiği feature'ları veya pattern'leri temsil eder.\n",
    "\n",
    "- **Output Layer:**  Modelin tahmin veya sınıflandırma sonuçlarını sunar.\n",
    "\n"
   ]
  },
  {
   "cell_type": "code",
   "execution_count": null,
   "id": "801423e1",
   "metadata": {},
   "outputs": [],
   "source": []
  },
  {
   "cell_type": "code",
   "execution_count": null,
   "id": "ba84ea00",
   "metadata": {},
   "outputs": [],
   "source": []
  },
  {
   "cell_type": "code",
   "execution_count": null,
   "id": "dcf9d78a",
   "metadata": {},
   "outputs": [],
   "source": []
  },
  {
   "cell_type": "code",
   "execution_count": null,
   "id": "bf9f682e",
   "metadata": {},
   "outputs": [],
   "source": []
  },
  {
   "cell_type": "code",
   "execution_count": null,
   "id": "2480823e",
   "metadata": {},
   "outputs": [],
   "source": []
  },
  {
   "cell_type": "code",
   "execution_count": null,
   "id": "8984dd83",
   "metadata": {},
   "outputs": [],
   "source": []
  },
  {
   "cell_type": "code",
   "execution_count": null,
   "id": "2573200a",
   "metadata": {},
   "outputs": [],
   "source": []
  },
  {
   "cell_type": "code",
   "execution_count": null,
   "id": "1ae2f158",
   "metadata": {},
   "outputs": [],
   "source": []
  },
  {
   "cell_type": "markdown",
   "id": "66f5a198",
   "metadata": {},
   "source": [
    "# TensorFlow\n",
    "\n",
    "**TensorFlow**, google tarafından geliştirilen hem araştırmacılar hem de geliştiriciler için, makine öğrenimi ve derin öğrenme modellerini geliştirmek, eğitmek ve dağıtmak için esnek, kapsamlı ve ölçeklenebilir bir açık kaynak platformudur.\n",
    "\n",
    "**Özellikler:**\n",
    "\n",
    "- Çok çeşitli araçlar, kitaplıklar ve topluluk kaynakları ile desteklenir.\n",
    "\n",
    "- CPU, GPU ve TPU dahil olmak üzere çeşitli cihazlarda çalışabilir.\n",
    "\n",
    "- Otomatik türev alma ve farklılaştırma işlemleri için güçlü bir sistem sunar.\n",
    "\n",
    "- TensorFlow 2.x sürümleri, daha basit ve kullanıcı dostu bir API yapısına sahiptir.\n",
    "\n",
    "**Kullanım Alanları:**\n",
    "\n",
    "-  Görüntü ve ses tanıma\n",
    "- Metin tabanlı uygulamalar\n",
    "- Tahmin sistemleri\n",
    "- ve daha fazlası gibi geniş bir yelpazedeki uygulamalar için kullanılır."
   ]
  },
  {
   "cell_type": "markdown",
   "id": "49ae78e3",
   "metadata": {},
   "source": [
    "# Keras\n",
    "\n",
    "**Keras**, Theano ve TensorFlow üzerinde çalışan, derin öğrenme modelleri oluşturmak için kullanılan yüksek seviyeli, Python ile yazılmış bir açık kaynak nöral ağ kütüphanesidir. Kullanım kolaylığı odaklıdır ve hızlı deney yapmayı kolaylaştırır.\n",
    "\n",
    "**Özellikler:**\n",
    "\n",
    "- Modüler ve genişletilebilir yapısı vardır. Yapı taşları (katmanlar, hedef fonksiyonlar, optimizasyon algoritmaları vb.) bir araya getirilerek modeller oluşturulabilir.\n",
    "\n",
    "- TensorFlow, Theano, Microsoft Cognitive Toolkit (CNTK) gibi altta yatan farklı hesaplama motorları üzerinde çalışabilir, ancak TensorFlow ile entegrasyon en yaygın kullanımdır. Sık kullanılan nöral ağ yapıları için önceden hazırlanmış bloklar sunar, böylece kullanıcılar karmaşık yapıları kolayca oluşturabilirler.\n",
    "\n",
    "**Kullanım Alanları:**\n",
    "Keras, başlangıç seviyesinden ileri seviyeye kadar derin öğrenme modelleri geliştiren araştırmacılar ve geliştiriciler tarafından tercih edilir. Özellikle prototip geliştirme aşamasında hızlı sonuçlar almak isteyenler için idealdir."
   ]
  },
  {
   "cell_type": "code",
   "execution_count": null,
   "id": "844cb0ef",
   "metadata": {},
   "outputs": [],
   "source": []
  },
  {
   "cell_type": "code",
   "execution_count": null,
   "id": "8e12cc4e",
   "metadata": {},
   "outputs": [],
   "source": []
  },
  {
   "cell_type": "code",
   "execution_count": null,
   "id": "7e114769",
   "metadata": {},
   "outputs": [],
   "source": []
  },
  {
   "cell_type": "code",
   "execution_count": null,
   "id": "caab2601",
   "metadata": {},
   "outputs": [],
   "source": []
  }
 ],
 "metadata": {
  "kernelspec": {
   "display_name": "Python 3 (ipykernel)",
   "language": "python",
   "name": "python3"
  },
  "language_info": {
   "codemirror_mode": {
    "name": "ipython",
    "version": 3
   },
   "file_extension": ".py",
   "mimetype": "text/x-python",
   "name": "python",
   "nbconvert_exporter": "python",
   "pygments_lexer": "ipython3",
   "version": "3.11.5"
  }
 },
 "nbformat": 4,
 "nbformat_minor": 5
}
