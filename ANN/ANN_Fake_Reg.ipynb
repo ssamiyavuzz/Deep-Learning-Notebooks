{
 "cells": [
  {
   "cell_type": "markdown",
   "id": "c3c095c0",
   "metadata": {},
   "source": [
    "# TensorFlow\n",
    "\n",
    "**TensorFlow**, google tarafından geliştirilen hem araştırmacılar hem de geliştiriciler için, makine öğrenimi ve derin öğrenme modellerini geliştirmek, eğitmek ve dağıtmak için esnek, kapsamlı ve ölçeklenebilir bir açık kaynak platformudur.\n",
    "\n",
    "**Özellikler:**\n",
    "\n",
    "- Çok çeşitli araçlar, kitaplıklar ve topluluk kaynakları ile desteklenir.\n",
    "\n",
    "- CPU, GPU ve TPU dahil olmak üzere çeşitli cihazlarda çalışabilir.\n",
    "\n",
    "- Otomatik türev alma ve farklılaştırma işlemleri için güçlü bir sistem sunar.\n",
    "\n",
    "- TensorFlow 2.x sürümleri, daha basit ve kullanıcı dostu bir API yapısına sahiptir.\n",
    "\n",
    "**Kullanım Alanları:**\n",
    "\n",
    "-  Görüntü ve ses tanıma\n",
    "- Metin tabanlı uygulamalar\n",
    "- Tahmin sistemleri\n",
    "- ve daha fazlası gibi geniş bir yelpazedeki uygulamalar için kullanılır."
   ]
  },
  {
   "cell_type": "markdown",
   "id": "a945c0a4",
   "metadata": {},
   "source": [
    "# Keras\n",
    "\n",
    "**Keras**, Theano ve TensorFlow üzerinde çalışan, derin öğrenme modelleri oluşturmak için kullanılan yüksek seviyeli, Python ile yazılmış bir açık kaynak nöral ağ kütüphanesidir. Kullanım kolaylığı odaklıdır ve hızlı deney yapmayı kolaylaştırır.\n",
    "\n"
   ]
  },
  {
   "cell_type": "code",
   "execution_count": null,
   "id": "c27b602a",
   "metadata": {},
   "outputs": [],
   "source": []
  },
  {
   "cell_type": "code",
   "execution_count": null,
   "id": "1557fbca",
   "metadata": {},
   "outputs": [],
   "source": []
  },
  {
   "cell_type": "code",
   "execution_count": null,
   "id": "fc3faca6",
   "metadata": {},
   "outputs": [],
   "source": []
  },
  {
   "cell_type": "code",
   "execution_count": null,
   "id": "27d61e7f",
   "metadata": {},
   "outputs": [],
   "source": []
  }
 ],
 "metadata": {
  "kernelspec": {
   "display_name": "Python 3 (ipykernel)",
   "language": "python",
   "name": "python3"
  },
  "language_info": {
   "codemirror_mode": {
    "name": "ipython",
    "version": 3
   },
   "file_extension": ".py",
   "mimetype": "text/x-python",
   "name": "python",
   "nbconvert_exporter": "python",
   "pygments_lexer": "ipython3",
   "version": "3.11.5"
  }
 },
 "nbformat": 4,
 "nbformat_minor": 5
}
