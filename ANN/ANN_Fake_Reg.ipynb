{
 "cells": [
  {
   "cell_type": "markdown",
   "id": "c197bf85",
   "metadata": {},
   "source": [
    "# TensorFlow\n",
    "\n",
    "**TensorFlow**, google tarafından geliştirilen hem araştırmacılar hem de geliştiriciler için, makine öğrenimi ve derin öğrenme modellerini geliştirmek, eğitmek ve dağıtmak için esnek, kapsamlı ve ölçeklenebilir bir açık kaynak platformudur.\n",
    "\n",
    "**Özellikler:**\n",
    "\n",
    "- Çok çeşitli araçlar, kitaplıklar ve topluluk kaynakları ile desteklenir.\n",
    "\n",
    "- CPU, GPU ve TPU dahil olmak üzere çeşitli cihazlarda çalışabilir.\n"
   ]
  }
 ],
 "metadata": {
  "kernelspec": {
   "display_name": "Python 3 (ipykernel)",
   "language": "python",
   "name": "python3"
  },
  "language_info": {
   "codemirror_mode": {
    "name": "ipython",
    "version": 3
   },
   "file_extension": ".py",
   "mimetype": "text/x-python",
   "name": "python",
   "nbconvert_exporter": "python",
   "pygments_lexer": "ipython3",
   "version": "3.11.5"
  }
 },
 "nbformat": 4,
 "nbformat_minor": 5
}
