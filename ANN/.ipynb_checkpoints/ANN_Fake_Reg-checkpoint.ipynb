{
 "cells": [
  {
   "cell_type": "markdown",
   "id": "ce7f669e",
   "metadata": {},
   "source": [
    "# TensorFlow\n",
    "\n",
    "**TensorFlow**, google tarafından geliştirilen hem araştırmacılar hem de geliştiriciler için, makine öğrenimi ve derin öğrenme modellerini geliştirmek, eğitmek ve dağıtmak için esnek, kapsamlı ve ölçeklenebilir bir açık kaynak platformudur.\n",
    "\n",
    "**Özellikler:**\n",
    "\n",
    "- Çok çeşitli araçlar, kitaplıklar ve topluluk kaynakları ile desteklenir.\n",
    "\n",
    "- CPU, GPU ve TPU dahil olmak üzere çeşitli cihazlarda çalışabilir.\n",
    "\n",
    "- Otomatik türev alma ve farklılaştırma işlemleri için güçlü bir sistem sunar.\n",
    "\n",
    "- TensorFlow 2.x sürümleri, daha basit ve kullanıcı dostu bir API yapısına sahiptir.\n",
    "\n",
    "**Kullanım Alanları:**\n",
    "\n",
    "-  Görüntü ve ses tanıma\n",
    "- Metin tabanlı uygulamalar\n",
    "- Tahmin sistemleri\n",
    "- ve daha fazlası gibi geniş bir yelpazedeki uygulamalar için kullanılır."
   ]
  },
  {
   "cell_type": "markdown",
   "id": "8244fae2",
   "metadata": {},
   "source": [
    "# Keras\n",
    "\n",
    "**Keras**, Theano ve TensorFlow üzerinde çalışan, derin öğrenme modelleri oluşturmak için kullanılan yüksek seviyeli, Python ile yazılmış bir açık kaynak nöral ağ kütüphanesidir. Kullanım kolaylığı odaklıdır ve hızlı deney yapmayı kolaylaştırır.\n",
    "\n",
    "**Özellikler:**\n",
    "\n",
    "- Modüler ve genişletilebilir yapısı vardır. Yapı taşları (katmanlar, hedef fonksiyonlar, optimizasyon algoritmaları vb.) bir araya getirilerek modeller oluşturulabilir.\n",
    "\n",
    "- TensorFlow, Theano, Microsoft Cognitive Toolkit (CNTK) gibi altta yatan farklı hesaplama motorları üzerinde çalışabilir, ancak TensorFlow ile entegrasyon en yaygın kullanımdır. Sık kullanılan nöral ağ yapıları için önceden hazırlanmış bloklar sunar, böylece kullanıcılar karmaşık yapıları kolayca oluşturabilirler.\n",
    "\n",
    "**Kullanım Alanları:**\n",
    "Keras, başlangıç seviyesinden ileri seviyeye kadar derin öğrenme modelleri geliştiren araştırmacılar ve geliştiriciler tarafından tercih edilir. Özellikle prototip geliştirme aşamasında hızlı sonuçlar almak isteyenler için idealdir."
   ]
  },
  {
   "cell_type": "code",
   "execution_count": null,
   "id": "f113d7ef",
   "metadata": {},
   "outputs": [],
   "source": []
  },
  {
   "cell_type": "code",
   "execution_count": null,
   "id": "ab0133c2",
   "metadata": {},
   "outputs": [],
   "source": []
  },
  {
   "cell_type": "code",
   "execution_count": null,
   "id": "bfe286fb",
   "metadata": {},
   "outputs": [],
   "source": []
  },
  {
   "cell_type": "code",
   "execution_count": null,
   "id": "536905cb",
   "metadata": {},
   "outputs": [],
   "source": []
  }
 ],
 "metadata": {
  "kernelspec": {
   "display_name": "Python 3 (ipykernel)",
   "language": "python",
   "name": "python3"
  },
  "language_info": {
   "codemirror_mode": {
    "name": "ipython",
    "version": 3
   },
   "file_extension": ".py",
   "mimetype": "text/x-python",
   "name": "python",
   "nbconvert_exporter": "python",
   "pygments_lexer": "ipython3",
   "version": "3.11.5"
  }
 },
 "nbformat": 4,
 "nbformat_minor": 5
}
